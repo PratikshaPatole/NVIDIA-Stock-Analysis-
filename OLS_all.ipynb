{
  "cells": [
    {
      "cell_type": "markdown",
      "id": "35ad58e2-caf9-4e2d-8570-8731149da1be",
      "metadata": {
        "id": "35ad58e2-caf9-4e2d-8570-8731149da1be"
      },
      "source": [
        "## OLS Regression ##"
      ]
    },
    {
      "cell_type": "code",
      "execution_count": null,
      "id": "026b0d37-8e04-4796-a479-44f6d8df15bb",
      "metadata": {
        "id": "026b0d37-8e04-4796-a479-44f6d8df15bb",
        "outputId": "ba9d97da-a53b-4bcc-a5b5-2950c81eebf7",
        "colab": {
          "base_uri": "https://localhost:8080/",
          "height": 339
        }
      },
      "outputs": [
        {
          "output_type": "error",
          "ename": "ModuleNotFoundError",
          "evalue": "ignored",
          "traceback": [
            "\u001b[0;31m---------------------------------------------------------------------------\u001b[0m",
            "\u001b[0;31mModuleNotFoundError\u001b[0m                       Traceback (most recent call last)",
            "\u001b[0;32m<ipython-input-1-5e592ee7a46c>\u001b[0m in \u001b[0;36m<module>\u001b[0;34m()\u001b[0m\n\u001b[1;32m      8\u001b[0m \u001b[0;34m\u001b[0m\u001b[0m\n\u001b[1;32m      9\u001b[0m \u001b[0;32mfrom\u001b[0m \u001b[0mdatetime\u001b[0m \u001b[0;32mimport\u001b[0m \u001b[0mdatetime\u001b[0m\u001b[0;34m\u001b[0m\u001b[0;34m\u001b[0m\u001b[0m\n\u001b[0;32m---> 10\u001b[0;31m \u001b[0;32mimport\u001b[0m \u001b[0myfinance\u001b[0m \u001b[0;32mas\u001b[0m \u001b[0myf\u001b[0m\u001b[0;34m\u001b[0m\u001b[0;34m\u001b[0m\u001b[0m\n\u001b[0m",
            "\u001b[0;31mModuleNotFoundError\u001b[0m: No module named 'yfinance'",
            "",
            "\u001b[0;31m---------------------------------------------------------------------------\u001b[0;32m\nNOTE: If your import is failing due to a missing package, you can\nmanually install dependencies using either !pip or !apt.\n\nTo view examples of installing some common dependencies, click the\n\"Open Examples\" button below.\n\u001b[0;31m---------------------------------------------------------------------------\u001b[0m\n"
          ],
          "errorDetails": {
            "actions": [
              {
                "action": "open_url",
                "actionText": "Open Examples",
                "url": "/notebooks/snippets/importing_libraries.ipynb"
              }
            ]
          }
        }
      ],
      "source": [
        "import numpy as np\n",
        "import scipy.stats as ss\n",
        "import pandas as pd\n",
        "\n",
        "import matplotlib.pyplot as plt\n",
        "import sklearn\n",
        "%matplotlib inline \n",
        "\n",
        "from datetime import datetime\n",
        "import yfinance as yf\n"
      ]
    },
    {
      "cell_type": "code",
      "execution_count": null,
      "id": "69ed803f-6808-45c5-9e89-33345cc28cba",
      "metadata": {
        "id": "69ed803f-6808-45c5-9e89-33345cc28cba"
      },
      "outputs": [],
      "source": [
        "#Load Data\n",
        "start_date = datetime(2019,1,1)\n",
        "end_date = datetime(2020,1,1)\n",
        "NVDA = yf.download('NVDA',start_date ,end_date)\n",
        "NVDA.head()\n"
      ]
    },
    {
      "cell_type": "code",
      "execution_count": null,
      "id": "9a38e5f3-8cd5-4691-aaa9-57bc312ba9ac",
      "metadata": {
        "id": "9a38e5f3-8cd5-4691-aaa9-57bc312ba9ac"
      },
      "outputs": [],
      "source": [
        "print (NVDA.describe())"
      ]
    },
    {
      "cell_type": "code",
      "execution_count": null,
      "id": "157e2c4d-1568-464a-aa97-f83c8f133f37",
      "metadata": {
        "id": "157e2c4d-1568-464a-aa97-f83c8f133f37"
      },
      "outputs": [],
      "source": [
        "# The keys method shows the dataset keys\n",
        "NVDA.keys()"
      ]
    },
    {
      "cell_type": "code",
      "execution_count": null,
      "id": "fd0d0512-e537-47f3-bdff-90228f734c7f",
      "metadata": {
        "id": "fd0d0512-e537-47f3-bdff-90228f734c7f"
      },
      "outputs": [],
      "source": [
        "# Let's figure out the dataset shape..\n",
        "NVDA.shape"
      ]
    },
    {
      "cell_type": "code",
      "execution_count": null,
      "id": "0ce94050-7469-43c3-a77e-677ca1403ce6",
      "metadata": {
        "id": "0ce94050-7469-43c3-a77e-677ca1403ce6"
      },
      "outputs": [],
      "source": [
        "#visualize the closing price hostory\n",
        "plt.figure(figsize=(10,7))\n",
        "plt.plot(NVDA['Adj Close'])\n",
        "plt.title('Closing Price Plot')\n",
        "plt.xlabel('Date')\n",
        "plt.ylabel(' NVDA Closing Price in $')\n",
        "plt.show()"
      ]
    },
    {
      "cell_type": "code",
      "execution_count": null,
      "id": "2e635765-8469-484e-a156-e2a03ce07444",
      "metadata": {
        "id": "2e635765-8469-484e-a156-e2a03ce07444"
      },
      "outputs": [],
      "source": [
        "Y = np.diff(np.log(NVDA['Adj Close'].values))\n",
        "T = Y.shape[0];\n",
        "IXN = yf.download('IXN',start_date ,end_date)\n",
        "F = np.diff(np.log(IXN['Adj Close'].values))\n",
        "'Add Constant to X'\n",
        "X = np.column_stack([np.ones((T,1)), np.linspace(1,T,T), F])\n",
        "# 'Add Time Trend to X'\n",
        "N = X.shape[1]"
      ]
    },
    {
      "cell_type": "code",
      "execution_count": null,
      "id": "ac4e7762-1474-46df-b1cc-4b8db67d9067",
      "metadata": {
        "id": "ac4e7762-1474-46df-b1cc-4b8db67d9067"
      },
      "outputs": [],
      "source": [
        "Y"
      ]
    },
    {
      "cell_type": "code",
      "execution_count": null,
      "id": "d8893fde-ff2b-442e-a634-7fdf84cd332f",
      "metadata": {
        "id": "d8893fde-ff2b-442e-a634-7fdf84cd332f"
      },
      "outputs": [],
      "source": [
        "# Regression       \n",
        "'Linear Regression of Y: T x 1 on' \n",
        "'Regressors X: T x N'\n",
        "invXX = np.linalg.inv(X.transpose()@X)\n",
        "'OLS estimator beta: N x 1'\n",
        "beta_hat = invXX@X.transpose()@Y\n",
        "'Predictive value of Y_t using OLS'  \n",
        "y_hat = X@beta_hat;       \n"
      ]
    },
    {
      "cell_type": "code",
      "execution_count": null,
      "id": "836c45ac-7dd5-4214-bd7f-014c90b26274",
      "metadata": {
        "id": "836c45ac-7dd5-4214-bd7f-014c90b26274"
      },
      "outputs": [],
      "source": [
        "y_hat\n"
      ]
    },
    {
      "cell_type": "code",
      "execution_count": null,
      "id": "6b8b06ed-2516-44dc-85ac-8fa879b7b216",
      "metadata": {
        "id": "6b8b06ed-2516-44dc-85ac-8fa879b7b216"
      },
      "outputs": [],
      "source": [
        "#Plotting stock price Actual and Predicted\n",
        "plt.figure(figsize=(15,10))\n",
        "plt.title('OLS Regression | Stock Price: Actual and Predicted')\n",
        "plt.plot( Y,  color='g', label='Actual')\n",
        "plt.plot( y_hat, color='r', label='Predicted')\n",
        "plt.xlabel('Time')\n",
        "plt.ylabel('Stock Price: Actual and Predicted')\n",
        "plt.legend()\n",
        "plt.show()"
      ]
    },
    {
      "cell_type": "code",
      "execution_count": null,
      "id": "db5f4f36-1fb6-4c8c-a544-8c290adb6e55",
      "metadata": {
        "id": "db5f4f36-1fb6-4c8c-a544-8c290adb6e55"
      },
      "outputs": [],
      "source": [
        "'Residuals from OLS: Y - X*beta'        \n",
        "residuals = Y - y_hat;          \n",
        "'variance of Y_t or residuals'\n",
        "sigma2 = (1/(T-2))*(residuals.transpose()@residuals)\n",
        "'standard deviation of Y_t or residuals'\n",
        "sig = np.sqrt(sigma2) \n",
        "'variance-covariance matrix of beta_hat'\n",
        "'N x N: on-diagnal variance(beta_j)'\n",
        "'N x N: off-diagnal cov(beta_i, beta_j)'  \n",
        "varcov_beta_hat = (sigma2)*invXX\n",
        "var_beta_hat = np.sqrt(T*np.diag(varcov_beta_hat))  #volatility of beta"
      ]
    },
    {
      "cell_type": "code",
      "execution_count": null,
      "id": "6f35a39e-1520-4d75-b83b-8339ddeb5d11",
      "metadata": {
        "id": "6f35a39e-1520-4d75-b83b-8339ddeb5d11"
      },
      "outputs": [],
      "source": [
        "np.mean(residuals)  # very close to 0   "
      ]
    },
    {
      "cell_type": "code",
      "execution_count": null,
      "id": "5849c063-a2fa-4c44-936a-5d46b3bc278c",
      "metadata": {
        "id": "5849c063-a2fa-4c44-936a-5d46b3bc278c"
      },
      "outputs": [],
      "source": [
        "'Calculate R-square'\n",
        "R_square = 1 - residuals.transpose()@residuals/(T*np.var(Y))\n",
        "adj_R_square = 1-(1-R_square)*(T-1)/(T-N)\n",
        "\n",
        "'Test Each Coefficient: beta_i'\n",
        "'t-test stat: N x 1'\n",
        "t_stat = (beta_hat.transpose()-0)/var_beta_hat\n",
        "' t-test significance level: N x 1'\n",
        "p_val_t = 1-ss.norm.cdf(t_stat)\n",
        "\n",
        "'Test of Joint Significance of Model'\n",
        "F_stat = beta_hat.transpose()@varcov_beta_hat@beta_hat/\\\n",
        "         (residuals.transpose()@residuals)\n",
        "'size: (1 x N)*(N x N)*(N x 1)/((1 x T) * (T x 1)) = 1 x 1'\n",
        "\n",
        "p_val_F = 1-ss.chi2.cdf(F_stat,T-N)\n",
        "\n",
        "REPORT = np.column_stack([beta_hat, t_stat,p_val_t])"
      ]
    },
    {
      "cell_type": "code",
      "execution_count": null,
      "id": "84079f66-2c86-4ae0-8f05-eed9353ea8a5",
      "metadata": {
        "id": "84079f66-2c86-4ae0-8f05-eed9353ea8a5"
      },
      "outputs": [],
      "source": [
        "print('------------------------\\n')\n",
        "print(' REGRESSION STATISTICS FOR NVDA \\n') \n",
        "print('------------------------\\n')\n",
        "print('beta             t_stat            p_val\\n')\n",
        "print(REPORT)\n",
        "print('\\n Joint significance of all coefficients \\n',[F_stat,p_val_F])\n",
        "print('R-Square is       \\n',R_square)\n",
        "print('Adjusted R Square \\n',adj_R_square)\n",
        "print('Standard Error    \\n',sig)\n",
        "print('Observations      \\n',T) \n",
        "print('-------------------------\\n')"
      ]
    },
    {
      "cell_type": "markdown",
      "id": "62b92c76-7b7d-4ed9-9bf9-c8a8bcc283f3",
      "metadata": {
        "id": "62b92c76-7b7d-4ed9-9bf9-c8a8bcc283f3"
      },
      "source": [
        "**For AMD**"
      ]
    },
    {
      "cell_type": "code",
      "execution_count": null,
      "id": "ef909c99-7e0d-409e-b860-90e5cc781c80",
      "metadata": {
        "tags": [],
        "id": "ef909c99-7e0d-409e-b860-90e5cc781c80"
      },
      "outputs": [],
      "source": [
        "#Load Data\n",
        "start_date = datetime(2019,11,1)\n",
        "end_date = datetime(2020,9,30)\n",
        "AMD = yf.download('AMD',start_date ,end_date)\n",
        "AMD.head()\n"
      ]
    },
    {
      "cell_type": "code",
      "execution_count": null,
      "id": "4825354a-fe62-4db0-a5ce-96dc3dad658b",
      "metadata": {
        "tags": [],
        "id": "4825354a-fe62-4db0-a5ce-96dc3dad658b"
      },
      "outputs": [],
      "source": [
        "print (AMD.describe())"
      ]
    },
    {
      "cell_type": "code",
      "execution_count": null,
      "id": "73524b9e-7e53-47ff-bb31-c330d6af9730",
      "metadata": {
        "tags": [],
        "id": "73524b9e-7e53-47ff-bb31-c330d6af9730"
      },
      "outputs": [],
      "source": [
        "# The keys method shows the dataset keys\n",
        "AMD.keys()"
      ]
    },
    {
      "cell_type": "code",
      "execution_count": null,
      "id": "a9804a61-d3e7-4599-8328-b0988211ee10",
      "metadata": {
        "id": "a9804a61-d3e7-4599-8328-b0988211ee10"
      },
      "outputs": [],
      "source": [
        "# Let's figure out the dataset shape..\n",
        "AMD.shape"
      ]
    },
    {
      "cell_type": "code",
      "execution_count": null,
      "id": "c3aaece3-ff28-453a-a295-976e42bffbba",
      "metadata": {
        "id": "c3aaece3-ff28-453a-a295-976e42bffbba"
      },
      "outputs": [],
      "source": [
        "#visualize the closing price hostory\n",
        "plt.figure(figsize=(10,7))\n",
        "plt.plot(AMD['Adj Close'])\n",
        "plt.title('Closing Price Plot')\n",
        "plt.xlabel('Date')\n",
        "plt.ylabel(' AMD Closing Price in $')\n",
        "plt.show()"
      ]
    },
    {
      "cell_type": "code",
      "execution_count": null,
      "id": "d02780f6-7a62-405b-987a-59ce24269268",
      "metadata": {
        "id": "d02780f6-7a62-405b-987a-59ce24269268"
      },
      "outputs": [],
      "source": [
        "Y = np.diff(np.log(AMD['Adj Close'].values))\n",
        "T = Y.shape[0];\n",
        "IXN = yf.download('IXN',start_date ,end_date)\n",
        "F = np.diff(np.log(IXN['Adj Close'].values))\n",
        "'Add Constant to X'\n",
        "X = np.column_stack([np.ones((T,1)), np.linspace(1,T,T), F])\n",
        "# 'Add Time Trend to X'\n",
        "N = X.shape[1]"
      ]
    },
    {
      "cell_type": "code",
      "execution_count": null,
      "id": "daacedac-7c44-47f1-9c79-131405df9c8d",
      "metadata": {
        "id": "daacedac-7c44-47f1-9c79-131405df9c8d"
      },
      "outputs": [],
      "source": [
        "Y"
      ]
    },
    {
      "cell_type": "code",
      "execution_count": null,
      "id": "0e69b175-384c-4ba6-942e-3ac88ccf5e27",
      "metadata": {
        "id": "0e69b175-384c-4ba6-942e-3ac88ccf5e27"
      },
      "outputs": [],
      "source": [
        "# Regression       \n",
        "'Linear Regression of Y: T x 1 on' \n",
        "'Regressors X: T x N'\n",
        "invXX = np.linalg.inv(X.transpose()@X)\n",
        "'OLS estimator beta: N x 1'\n",
        "beta_hat = invXX@X.transpose()@Y\n",
        "'Predictive value of Y_t using OLS'  \n",
        "y_hat = X@beta_hat; "
      ]
    },
    {
      "cell_type": "code",
      "execution_count": null,
      "id": "ccceab28-ddc3-487e-b245-941de0569c19",
      "metadata": {
        "id": "ccceab28-ddc3-487e-b245-941de0569c19"
      },
      "outputs": [],
      "source": [
        "y_hat"
      ]
    },
    {
      "cell_type": "code",
      "execution_count": null,
      "id": "65f20a4c-6a65-41f1-b935-52560e3c55f2",
      "metadata": {
        "id": "65f20a4c-6a65-41f1-b935-52560e3c55f2"
      },
      "outputs": [],
      "source": [
        "#Plotting stock price Actual and Predicted\n",
        "plt.figure(figsize=(15,10))\n",
        "plt.title('OLS Regression | Stock Price: Actual and Predicted')\n",
        "plt.plot( Y,  color='g', label='Actual')\n",
        "plt.plot( y_hat, color='r', label='Predicted')\n",
        "plt.xlabel('Time')\n",
        "plt.ylabel('Stock Price: Actual and Predicted')\n",
        "plt.legend()\n",
        "plt.show()"
      ]
    },
    {
      "cell_type": "code",
      "execution_count": null,
      "id": "08a5aca2-78e0-4062-8f0c-614a570639e0",
      "metadata": {
        "id": "08a5aca2-78e0-4062-8f0c-614a570639e0"
      },
      "outputs": [],
      "source": [
        "'Residuals from OLS: Y - X*beta'        \n",
        "residuals = Y - y_hat;          \n",
        "'variance of Y_t or residuals'\n",
        "sigma2 = (1/(T-2))*(residuals.transpose()@residuals)\n",
        "'standard deviation of Y_t or residuals'\n",
        "sig = np.sqrt(sigma2) \n",
        "'variance-covariance matrix of beta_hat'\n",
        "'N x N: on-diagnal variance(beta_j)'\n",
        "'N x N: off-diagnal cov(beta_i, beta_j)'  \n",
        "varcov_beta_hat = (sigma2)*invXX\n",
        "var_beta_hat = np.sqrt(T*np.diag(varcov_beta_hat))  #volatility of beta"
      ]
    },
    {
      "cell_type": "code",
      "execution_count": null,
      "id": "86957b2f-2cf8-41f5-aecc-4f297d75c85f",
      "metadata": {
        "id": "86957b2f-2cf8-41f5-aecc-4f297d75c85f"
      },
      "outputs": [],
      "source": [
        "np.mean(residuals)  # very close to 0 "
      ]
    },
    {
      "cell_type": "code",
      "execution_count": null,
      "id": "e592d75e-94c3-4ee9-afcf-e12e858c89c7",
      "metadata": {
        "id": "e592d75e-94c3-4ee9-afcf-e12e858c89c7"
      },
      "outputs": [],
      "source": [
        "'Calculate R-square'\n",
        "R_square = 1 - residuals.transpose()@residuals/(T*np.var(Y))\n",
        "adj_R_square = 1-(1-R_square)*(T-1)/(T-N)\n",
        "\n",
        "'Test Each Coefficient: beta_i'\n",
        "'t-test stat: N x 1'\n",
        "t_stat = (beta_hat.transpose()-0)/var_beta_hat\n",
        "' t-test significance level: N x 1'\n",
        "p_val_t = 1-ss.norm.cdf(t_stat)\n",
        "\n",
        "'Test of Joint Significance of Model'\n",
        "F_stat = beta_hat.transpose()@varcov_beta_hat@beta_hat/\\\n",
        "         (residuals.transpose()@residuals)\n",
        "'size: (1 x N)*(N x N)*(N x 1)/((1 x T) * (T x 1)) = 1 x 1'\n",
        "\n",
        "p_val_F = 1-ss.chi2.cdf(F_stat,T-N)\n",
        "\n",
        "REPORT = np.column_stack([beta_hat, t_stat,p_val_t])"
      ]
    },
    {
      "cell_type": "code",
      "execution_count": null,
      "id": "7e4e7b49-74ef-4789-b5bf-497219ce55b6",
      "metadata": {
        "id": "7e4e7b49-74ef-4789-b5bf-497219ce55b6"
      },
      "outputs": [],
      "source": [
        "print('------------------------\\n')\n",
        "print(' REGRESSION STATISTICS FOR AMD  \\n') \n",
        "print('------------------------\\n')\n",
        "print('beta             t_stat            p_val\\n')\n",
        "print(REPORT)\n",
        "print('\\n Joint significance of all coefficients \\n',[F_stat,p_val_F])\n",
        "print('R-Square is       \\n',R_square)\n",
        "print('Adjusted R Square \\n',adj_R_square)\n",
        "print('Standard Error    \\n',sig)\n",
        "print('Observations      \\n',T) \n",
        "print('-------------------------\\n')"
      ]
    },
    {
      "cell_type": "code",
      "execution_count": null,
      "id": "a1e6e0c4-7981-4252-9d62-b6a5115ceebe",
      "metadata": {
        "id": "a1e6e0c4-7981-4252-9d62-b6a5115ceebe"
      },
      "outputs": [],
      "source": []
    },
    {
      "cell_type": "markdown",
      "id": "1e92dbe1-9ed7-4329-8939-31beb070a06a",
      "metadata": {
        "id": "1e92dbe1-9ed7-4329-8939-31beb070a06a"
      },
      "source": [
        "**For INTC**"
      ]
    },
    {
      "cell_type": "code",
      "execution_count": null,
      "id": "b0e296f6-b27d-49ab-82b4-c1ab4a3c4388",
      "metadata": {
        "id": "b0e296f6-b27d-49ab-82b4-c1ab4a3c4388"
      },
      "outputs": [],
      "source": [
        "#Load Data\n",
        "start_date = datetime(2019,11,1)\n",
        "end_date = datetime(2020,9,30)\n",
        "INTC = yf.download('INTC',start_date ,end_date)\n",
        "INTC.head()\n"
      ]
    },
    {
      "cell_type": "code",
      "execution_count": null,
      "id": "bebb24a7-077d-4407-b53f-04be95aeb628",
      "metadata": {
        "id": "bebb24a7-077d-4407-b53f-04be95aeb628"
      },
      "outputs": [],
      "source": [
        "print (INTC.describe())"
      ]
    },
    {
      "cell_type": "code",
      "execution_count": null,
      "id": "90dcb6a7-e9c3-492e-8dae-062f07684744",
      "metadata": {
        "id": "90dcb6a7-e9c3-492e-8dae-062f07684744"
      },
      "outputs": [],
      "source": [
        "# The keys method shows the dataset keys\n",
        "INTC.keys()"
      ]
    },
    {
      "cell_type": "code",
      "execution_count": null,
      "id": "75c90a59-f018-4d18-9e24-36cabcc4e450",
      "metadata": {
        "id": "75c90a59-f018-4d18-9e24-36cabcc4e450"
      },
      "outputs": [],
      "source": [
        "# Let's figure out the dataset shape..\n",
        "INTC.shape"
      ]
    },
    {
      "cell_type": "code",
      "execution_count": null,
      "id": "7d4e177c-1fe5-4fbc-8930-fe5c2531aeb5",
      "metadata": {
        "id": "7d4e177c-1fe5-4fbc-8930-fe5c2531aeb5"
      },
      "outputs": [],
      "source": [
        "#visualize the closing price hostory\n",
        "plt.figure(figsize=(10,7))\n",
        "plt.plot(INTC['Adj Close'])\n",
        "plt.title('Closing Price Plot')\n",
        "plt.xlabel('Date')\n",
        "plt.ylabel(' INTC Closing Price in $')\n",
        "plt.show()"
      ]
    },
    {
      "cell_type": "code",
      "execution_count": null,
      "id": "eedb54fa-fd32-4f44-9352-7b17fa299928",
      "metadata": {
        "id": "eedb54fa-fd32-4f44-9352-7b17fa299928"
      },
      "outputs": [],
      "source": [
        "Y = np.diff(np.log(INTC['Adj Close'].values))\n",
        "T = Y.shape[0];\n",
        "IXN = yf.download('IXN',start_date ,end_date)\n",
        "F = np.diff(np.log(IXN['Adj Close'].values))\n",
        "'Add Constant to X'\n",
        "X = np.column_stack([np.ones((T,1)), np.linspace(1,T,T), F])\n",
        "# 'Add Time Trend to X'\n",
        "N = X.shape[1]"
      ]
    },
    {
      "cell_type": "code",
      "execution_count": null,
      "id": "6784182d-7ac5-4f53-b1a3-72a37f47fc56",
      "metadata": {
        "id": "6784182d-7ac5-4f53-b1a3-72a37f47fc56"
      },
      "outputs": [],
      "source": [
        "Y"
      ]
    },
    {
      "cell_type": "code",
      "execution_count": null,
      "id": "9bf28856-c8ce-4ec8-9693-92acd1664b96",
      "metadata": {
        "id": "9bf28856-c8ce-4ec8-9693-92acd1664b96"
      },
      "outputs": [],
      "source": [
        "# Regression       \n",
        "'Linear Regression of Y: T x 1 on' \n",
        "'Regressors X: T x N'\n",
        "invXX = np.linalg.inv(X.transpose()@X)\n",
        "'OLS estimator beta: N x 1'\n",
        "beta_hat = invXX@X.transpose()@Y\n",
        "'Predictive value of Y_t using OLS'  \n",
        "y_hat = X@beta_hat; "
      ]
    },
    {
      "cell_type": "code",
      "execution_count": null,
      "id": "ba63ed3e-b329-4a80-955e-a6b62ad60fbb",
      "metadata": {
        "id": "ba63ed3e-b329-4a80-955e-a6b62ad60fbb"
      },
      "outputs": [],
      "source": [
        "y_hat"
      ]
    },
    {
      "cell_type": "code",
      "execution_count": null,
      "id": "4bf8e141-0a68-4a37-a5d3-0a637990f596",
      "metadata": {
        "id": "4bf8e141-0a68-4a37-a5d3-0a637990f596"
      },
      "outputs": [],
      "source": [
        "#Plotting stock price Actual and Predicted\n",
        "plt.figure(figsize=(15,10))\n",
        "plt.title('OLS Regression | Stock Price: Actual and Predicted')\n",
        "plt.plot( Y,  color='g', label='Actual')\n",
        "plt.plot( y_hat, color='r', label='Predicted')\n",
        "plt.xlabel('Time')\n",
        "plt.ylabel('Stock Price: Actual and Predicted')\n",
        "plt.legend()\n",
        "plt.show()"
      ]
    },
    {
      "cell_type": "code",
      "execution_count": null,
      "id": "6c36a008-7c1e-47a2-82ba-dff8f0d666a2",
      "metadata": {
        "id": "6c36a008-7c1e-47a2-82ba-dff8f0d666a2"
      },
      "outputs": [],
      "source": [
        "'Residuals from OLS: Y - X*beta'        \n",
        "residuals = Y - y_hat;          \n",
        "'variance of Y_t or residuals'\n",
        "sigma2 = (1/(T-2))*(residuals.transpose()@residuals)\n",
        "'standard deviation of Y_t or residuals'\n",
        "sig = np.sqrt(sigma2) \n",
        "'variance-covariance matrix of beta_hat'\n",
        "'N x N: on-diagnal variance(beta_j)'\n",
        "'N x N: off-diagnal cov(beta_i, beta_j)'  \n",
        "varcov_beta_hat = (sigma2)*invXX\n",
        "var_beta_hat = np.sqrt(T*np.diag(varcov_beta_hat))  #volatility of beta"
      ]
    },
    {
      "cell_type": "code",
      "execution_count": null,
      "id": "97dac5d3-bc24-4bf9-bf4d-eaf4dd80f2fe",
      "metadata": {
        "id": "97dac5d3-bc24-4bf9-bf4d-eaf4dd80f2fe"
      },
      "outputs": [],
      "source": [
        "np.mean(residuals)  # very close to 0 "
      ]
    },
    {
      "cell_type": "code",
      "execution_count": null,
      "id": "2092b53b-8b94-4774-bb2e-e647007f26bc",
      "metadata": {
        "id": "2092b53b-8b94-4774-bb2e-e647007f26bc"
      },
      "outputs": [],
      "source": [
        "'Calculate R-square'\n",
        "R_square = 1 - residuals.transpose()@residuals/(T*np.var(Y))\n",
        "adj_R_square = 1-(1-R_square)*(T-1)/(T-N)\n",
        "\n",
        "'Test Each Coefficient: beta_i'\n",
        "'t-test stat: N x 1'\n",
        "t_stat = (beta_hat.transpose()-0)/var_beta_hat\n",
        "' t-test significance level: N x 1'\n",
        "p_val_t = 1-ss.norm.cdf(t_stat)\n",
        "\n",
        "'Test of Joint Significance of Model'\n",
        "F_stat = beta_hat.transpose()@varcov_beta_hat@beta_hat/\\\n",
        "         (residuals.transpose()@residuals)\n",
        "'size: (1 x N)*(N x N)*(N x 1)/((1 x T) * (T x 1)) = 1 x 1'\n",
        "\n",
        "p_val_F = 1-ss.chi2.cdf(F_stat,T-N)\n",
        "\n",
        "REPORT = np.column_stack([beta_hat, t_stat,p_val_t])"
      ]
    },
    {
      "cell_type": "code",
      "execution_count": null,
      "id": "ece749c5-c36d-4564-98b7-48dd730355f7",
      "metadata": {
        "id": "ece749c5-c36d-4564-98b7-48dd730355f7"
      },
      "outputs": [],
      "source": [
        "print('------------------------\\n')\n",
        "print(' REGRESSION STATISTICS FOR INTC  \\n') \n",
        "print('------------------------\\n')\n",
        "print('beta             t_stat            p_val\\n')\n",
        "print(REPORT)\n",
        "print('\\n Joint significance of all coefficients \\n',[F_stat,p_val_F])\n",
        "print('R-Square is       \\n',R_square)\n",
        "print('Adjusted R Square \\n',adj_R_square)\n",
        "print('Standard Error    \\n',sig)\n",
        "print('Observations      \\n',T) \n",
        "print('-------------------------\\n')"
      ]
    },
    {
      "cell_type": "code",
      "execution_count": null,
      "id": "f4c6b266-4d22-41ed-bb28-1ba2f58604fc",
      "metadata": {
        "id": "f4c6b266-4d22-41ed-bb28-1ba2f58604fc"
      },
      "outputs": [],
      "source": []
    }
  ],
  "metadata": {
    "kernelspec": {
      "display_name": "Python 3 (ipykernel)",
      "language": "python",
      "name": "python3"
    },
    "language_info": {
      "codemirror_mode": {
        "name": "ipython",
        "version": 3
      },
      "file_extension": ".py",
      "mimetype": "text/x-python",
      "name": "python",
      "nbconvert_exporter": "python",
      "pygments_lexer": "ipython3",
      "version": "3.10.2"
    },
    "colab": {
      "provenance": []
    }
  },
  "nbformat": 4,
  "nbformat_minor": 5
}